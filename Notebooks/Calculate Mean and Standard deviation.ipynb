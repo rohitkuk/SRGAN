{
 "cells": [
  {
   "cell_type": "code",
   "execution_count": 78,
   "id": "stock-planet",
   "metadata": {},
   "outputs": [],
   "source": [
    "import torch \n",
    "import numpy as np\n",
    "from PIL import Image\n",
    "from glob import glob \n",
    "from tqdm import tqdm\n",
    "from torch.utils.data import DataLoader\n"
   ]
  },
  {
   "cell_type": "code",
   "execution_count": 79,
   "id": "competent-freeze",
   "metadata": {},
   "outputs": [],
   "source": [
    "files = glob(\"../Dataset/train/*.jpg\")"
   ]
  },
  {
   "cell_type": "code",
   "execution_count": 80,
   "id": "sharp-arrival",
   "metadata": {},
   "outputs": [],
   "source": [
    "from torch.utils.data import Dataset\n",
    "import torch \n",
    "from torchvision import transforms\n",
    "from PIL import Image\n",
    "import os\n",
    "\n",
    "\n",
    "class SgranDataset(Dataset):\n",
    "\n",
    "    def __init__(self, dir,hr_shape = (1024, 1024)):\n",
    "        super(SgranDataset, self).__init__()\n",
    "\n",
    "        self.hr_height, self.hr_width = hr_shape\n",
    "        self.dir = dir\n",
    "\n",
    "        self.lr_transforms = transforms.Compose([\n",
    "            transforms.Resize((self.hr_height//4,  self.hr_width//4), Image.BICUBIC),\n",
    "            transforms.ToTensor(),\n",
    "            \n",
    "        ])\n",
    "        \n",
    "        self.hr_transforms = transforms.Compose([\n",
    "            transforms.Resize((self.hr_height,  self.hr_width), Image.BICUBIC),\n",
    "            transforms.ToTensor(),\n",
    "            \n",
    "        ])\n",
    "\n",
    "\n",
    "    def __len__(self):\n",
    "        return len(files)\n",
    "\n",
    "\n",
    "    def __getitem__(self, index):\n",
    "        img = Image.open(files[index])\n",
    "        img_lr = self.lr_transforms(img)\n",
    "        img_hr = self.hr_transforms(img)\n",
    "        return img_lr, img_hr\n",
    "\n"
   ]
  },
  {
   "cell_type": "code",
   "execution_count": 77,
   "id": "posted-dressing",
   "metadata": {},
   "outputs": [
    {
     "name": "stderr",
     "output_type": "stream",
     "text": [
      "100%|██████████| 257/257 [00:41<00:00,  6.14it/s]"
     ]
    },
    {
     "name": "stdout",
     "output_type": "stream",
     "text": [
      "tensor([0.4262, 0.4133, 0.3996])\n",
      "tensor([0.2174, 0.2022, 0.2092])\n"
     ]
    },
    {
     "name": "stderr",
     "output_type": "stream",
     "text": [
      "\n"
     ]
    }
   ],
   "source": [
    "\n",
    "loader = DataLoader(SgranDataset(dir = \"../Dataset/train\"), batch_size=8)\n",
    "\n",
    "nimages = 0\n",
    "mean = 0.\n",
    "std = 0.\n",
    "for batch, _ in tqdm(loader):\n",
    "    # Rearrange batch to be the shape of [B, C, W * H]\n",
    "    batch = batch.view(batch.size(0), batch.size(1), -1)\n",
    "    # Update total number of images\n",
    "    nimages += batch.size(0)\n",
    "    # Compute mean and std here\n",
    "    mean += batch.mean(2).sum(0) \n",
    "    std += batch.std(2).sum(0)\n",
    "\n",
    "# Final step\n",
    "mean /= nimages\n",
    "std /= nimages\n",
    "\n",
    "print(mean)\n",
    "print(std)"
   ]
  },
  {
   "cell_type": "code",
   "execution_count": null,
   "id": "welcome-turkish",
   "metadata": {},
   "outputs": [],
   "source": []
  }
 ],
 "metadata": {
  "kernelspec": {
   "display_name": "Python 3",
   "language": "python",
   "name": "python3"
  },
  "language_info": {
   "codemirror_mode": {
    "name": "ipython",
    "version": 3
   },
   "file_extension": ".py",
   "mimetype": "text/x-python",
   "name": "python",
   "nbconvert_exporter": "python",
   "pygments_lexer": "ipython3",
   "version": "3.8.8"
  }
 },
 "nbformat": 4,
 "nbformat_minor": 5
}
